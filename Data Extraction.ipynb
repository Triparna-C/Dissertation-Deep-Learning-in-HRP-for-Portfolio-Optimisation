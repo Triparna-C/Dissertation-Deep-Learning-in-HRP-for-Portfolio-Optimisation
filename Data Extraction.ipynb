{
 "cells": [
  {
   "cell_type": "markdown",
   "id": "b8f644a5",
   "metadata": {},
   "source": [
    "## Dissertation Code: Data Extraction\n",
    "\n",
    "#### Student Name - Triparna Chatterjee\n",
    "#### Student Number - 2433119"
   ]
  },
  {
   "cell_type": "code",
   "execution_count": 1,
   "id": "16ea7b6c",
   "metadata": {},
   "outputs": [],
   "source": [
    "import yfinance as yf\n",
    "import pandas as pd"
   ]
  },
  {
   "cell_type": "code",
   "execution_count": 2,
   "id": "277cf036",
   "metadata": {},
   "outputs": [],
   "source": [
    "# List of ticker symbols\n",
    "tickers = [\"AAPL\", \"ADBE\", \"ADP\", \"AMGN\", \"ASML\", \"AXP\", \"BA\", \"BIIB\", \"CAT\", \"CSCO\", \n",
    "           \"CVX\", \"DIS\", \"EBAY\", \"EEM\", \"EQIX\", \"EWJ\", \"GS\", \"HD\", \"HON\", \"HSBC\", \n",
    "           \"IBM\", \"IJR\", \"ILMN\", \"INTC\", \"JNJ\", \"JPM\", \"KO\", \"LRCX\", \"LMT\", \"MAR\", \n",
    "           \"MCD\", \"MMM\", \"MRK\", \"MSFT\", \"NEE\", \"NFLX\", \"NKE\", \"NVDA\", \"ORCL\", \"PG\", \n",
    "           \"QQQ\", \"SAP\", \"SPY\", \"TRV\", \"TSM\", \"TXN\", \"UNH\", \"VZ\", \"WBA\", \"WMT\"]"
   ]
  },
  {
   "cell_type": "code",
   "execution_count": 3,
   "id": "32bbdb36",
   "metadata": {},
   "outputs": [
    {
     "name": "stderr",
     "output_type": "stream",
     "text": [
      "[*********************100%%**********************]  50 of 50 completed\n"
     ]
    }
   ],
   "source": [
    "# Download data\n",
    "data = yf.download(tickers, start=\"2004-01-01\", end=\"2024-01-01\")"
   ]
  },
  {
   "cell_type": "code",
   "execution_count": 4,
   "id": "880bcc31",
   "metadata": {},
   "outputs": [],
   "source": [
    "# Select only the 'Close' prices\n",
    "close_prices = data['Close']"
   ]
  },
  {
   "cell_type": "code",
   "execution_count": 5,
   "id": "a0c5165e",
   "metadata": {},
   "outputs": [],
   "source": [
    "# Save to CSV\n",
    "close_prices.to_csv(\"50_stock_data.csv\")"
   ]
  },
  {
   "cell_type": "code",
   "execution_count": 6,
   "id": "a4f83838",
   "metadata": {},
   "outputs": [
    {
     "name": "stdout",
     "output_type": "stream",
     "text": [
      "Data downloaded and saved to '50_stock_data.csv'\n"
     ]
    }
   ],
   "source": [
    "print(\"Data downloaded and saved to '50_stock_data.csv'\")"
   ]
  },
  {
   "cell_type": "markdown",
   "id": "55f4ad44",
   "metadata": {},
   "source": [
    "#### Code References:\n",
    "\n",
    "1) ADFT Lab Notebooks\n",
    "2) https://www.kaggle.com/code/imoore/intro-to-exploratory-data-analysis-eda-in-python\n",
    "3) https://www.kaggle.com/code/bhavyajoshi02022000/outlier-z-score-iqr\n",
    "4) https://github.com/robertmartin8/PyPortfolioOpt/blob/master/cookbook/5-Hierarchical-Risk-Parity.ipynb\n",
    "5) https://github.com/TheRockXu/Hierarchical-Risk-Parity/blob/master/Hierarchical%20Clustering.ipynb\n",
    "6) https://github.com/d-jiao/LSTM-For-Stock-Market-Prediction/blob/master/3_LSTM_Model.ipynb\n",
    "7) https://www.kaggle.com/code/faressayah/stock-market-analysis-prediction-using-lstm#6.-Predicting-the-closing-price-stock-price-of-APPLE-inc\n",
    "8) https://www.kaggle.com/code/malingarajapaksha/stock-prediction-lstm#Modeling\n",
    "9) https://www.kaggle.com/code/fredblair/transformers-for-stocks#Build-the-model\n",
    "10) https://www.kaggle.com/code/selcukcan/nlp-9d-lstm-vs-transformers-for-stock-prediction#3.-Implementing-a-Transformer\n"
   ]
  }
 ],
 "metadata": {
  "kernelspec": {
   "display_name": "Python 3 (ipykernel)",
   "language": "python",
   "name": "python3"
  },
  "language_info": {
   "codemirror_mode": {
    "name": "ipython",
    "version": 3
   },
   "file_extension": ".py",
   "mimetype": "text/x-python",
   "name": "python",
   "nbconvert_exporter": "python",
   "pygments_lexer": "ipython3",
   "version": "3.11.5"
  }
 },
 "nbformat": 4,
 "nbformat_minor": 5
}
